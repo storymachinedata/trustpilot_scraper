{
 "cells": [
  {
   "cell_type": "code",
   "execution_count": 1,
   "id": "5a491f8a-a5c8-4cca-a56a-a3080989a896",
   "metadata": {},
   "outputs": [],
   "source": [
    "import sys\n",
    "\n",
    "sys.path.append(\"../\")"
   ]
  },
  {
   "cell_type": "code",
   "execution_count": 2,
   "id": "1f329f58-5e25-4351-972e-c8666efa92f5",
   "metadata": {},
   "outputs": [
    {
     "name": "stderr",
     "output_type": "stream",
     "text": [
      "/Users/kaushikdayalan/projects/storymachine_projects/trustpilot_scraper/.env/lib/python3.9/site-packages/urllib3/__init__.py:34: NotOpenSSLWarning: urllib3 v2.0 only supports OpenSSL 1.1.1+, currently the 'ssl' module is compiled with 'LibreSSL 2.8.3'. See: https://github.com/urllib3/urllib3/issues/3020\n",
      "  warnings.warn(\n"
     ]
    }
   ],
   "source": [
    "from typing import List\n",
    "import pandas as pd\n",
    "from src.pipeline import collect_data, convert_scraped_data_to_df"
   ]
  },
  {
   "cell_type": "code",
   "execution_count": 12,
   "id": "bb4b0cf6-af5c-49a2-9f32-2769072e5134",
   "metadata": {},
   "outputs": [],
   "source": [
    "scrapper = Scrapper()"
   ]
  },
  {
   "cell_type": "code",
   "execution_count": 13,
   "id": "5a1cd4bf-c8f2-4c92-bb71-f5e684d0b9a6",
   "metadata": {},
   "outputs": [],
   "source": [
    "data = scrapper.get_data()"
   ]
  },
  {
   "cell_type": "code",
   "execution_count": 16,
   "id": "8e4ea1ee-3a99-43a9-8610-038c58c15aa4",
   "metadata": {},
   "outputs": [],
   "source": [
    "def convert_scraped_data_to_df(data: List) -> pd.DataFrame:\n",
    "    df_columns = [\"reviewerName\", \n",
    "              \"reviewerCountryCode\",\n",
    "              \"postDate\",\n",
    "              \"postTitle\", \n",
    "              \"postContent\", \n",
    "              \"rating\",\n",
    "              \"likes\",\n",
    "              \"reply\"\n",
    "             ]\n",
    "    return pd.DataFrame(data=data, columns=df_columns)"
   ]
  },
  {
   "cell_type": "code",
   "execution_count": 8,
   "id": "4f82d91e-00aa-4992-b78a-22a146cd3eac",
   "metadata": {},
   "outputs": [
    {
     "ename": "NameError",
     "evalue": "name 'data' is not defined",
     "output_type": "error",
     "traceback": [
      "\u001b[0;31m---------------------------------------------------------------------------\u001b[0m",
      "\u001b[0;31mNameError\u001b[0m                                 Traceback (most recent call last)",
      "Cell \u001b[0;32mIn[8], line 1\u001b[0m\n\u001b[0;32m----> 1\u001b[0m df \u001b[38;5;241m=\u001b[39m convert_scraped_data_to_df(data\u001b[38;5;241m=\u001b[39m\u001b[43mdata\u001b[49m)\n",
      "\u001b[0;31mNameError\u001b[0m: name 'data' is not defined"
     ]
    }
   ],
   "source": [
    "df = convert_scraped_data_to_df(data=data)"
   ]
  },
  {
   "cell_type": "code",
   "execution_count": null,
   "id": "a9ba30b4-0d00-4658-a637-3ec6c096e6ba",
   "metadata": {},
   "outputs": [],
   "source": [
    "pd.read_json(df.to_json())"
   ]
  },
  {
   "cell_type": "code",
   "execution_count": 18,
   "id": "11e99179-3ba9-4dc9-a0be-c1a1d61ba871",
   "metadata": {},
   "outputs": [],
   "source": [
    "df = pd.read_json(\"http://127.0.0.1:8000/trust-pilot-scrapper?website_name=www.dhl.de&start_page=1&end_page=4\")"
   ]
  },
  {
   "cell_type": "code",
   "execution_count": 19,
   "id": "81c721f9-e2e1-43a5-897d-5bbab6c1cd60",
   "metadata": {},
   "outputs": [
    {
     "data": {
      "text/plain": [
       "reviewerName            0\n",
       "reviewerCountryCode     0\n",
       "postDate                0\n",
       "postTitle               0\n",
       "postContent             0\n",
       "rating                  0\n",
       "likes                   0\n",
       "reply                  28\n",
       "dtype: int64"
      ]
     },
     "execution_count": 19,
     "metadata": {},
     "output_type": "execute_result"
    }
   ],
   "source": [
    "df.isnull().sum()"
   ]
  },
  {
   "cell_type": "code",
   "execution_count": 21,
   "id": "53797bd8-1fb0-4c4e-8871-be07db7dc9c8",
   "metadata": {},
   "outputs": [
    {
     "data": {
      "text/html": [
       "<div>\n",
       "<style scoped>\n",
       "    .dataframe tbody tr th:only-of-type {\n",
       "        vertical-align: middle;\n",
       "    }\n",
       "\n",
       "    .dataframe tbody tr th {\n",
       "        vertical-align: top;\n",
       "    }\n",
       "\n",
       "    .dataframe thead th {\n",
       "        text-align: right;\n",
       "    }\n",
       "</style>\n",
       "<table border=\"1\" class=\"dataframe\">\n",
       "  <thead>\n",
       "    <tr style=\"text-align: right;\">\n",
       "      <th></th>\n",
       "      <th>reviewerName</th>\n",
       "      <th>reviewerCountryCode</th>\n",
       "      <th>postDate</th>\n",
       "      <th>postTitle</th>\n",
       "      <th>postContent</th>\n",
       "      <th>rating</th>\n",
       "      <th>likes</th>\n",
       "      <th>reply</th>\n",
       "    </tr>\n",
       "  </thead>\n",
       "  <tbody>\n",
       "    <tr>\n",
       "      <th>0</th>\n",
       "      <td>DRML</td>\n",
       "      <td>DE</td>\n",
       "      <td>2023-10-30T08:52:30.000Z</td>\n",
       "      <td>DHL kann auch gut arbeiten…</td>\n",
       "      <td>Natürlich habe auch ich Probleme mit DHL, dies...</td>\n",
       "      <td>5</td>\n",
       "      <td>0</td>\n",
       "      <td>None</td>\n",
       "    </tr>\n",
       "    <tr>\n",
       "      <th>1</th>\n",
       "      <td>Belix Fa</td>\n",
       "      <td>DE</td>\n",
       "      <td>2023-10-30T17:13:51.000Z</td>\n",
       "      <td>Lieferung wurde nicht zugestellt mit…</td>\n",
       "      <td>Lieferung wurde nicht zugestellt mit Begründun...</td>\n",
       "      <td>1</td>\n",
       "      <td>0</td>\n",
       "      <td>None</td>\n",
       "    </tr>\n",
       "    <tr>\n",
       "      <th>2</th>\n",
       "      <td>Joachim Henning</td>\n",
       "      <td>DE</td>\n",
       "      <td>2023-10-30T14:12:39.000Z</td>\n",
       "      <td>Paket sollte am 23.10.2023</td>\n",
       "      <td>Paket sollte am 23.10. geliefert werden, da ic...</td>\n",
       "      <td>2</td>\n",
       "      <td>0</td>\n",
       "      <td>None</td>\n",
       "    </tr>\n",
       "    <tr>\n",
       "      <th>3</th>\n",
       "      <td>Jb.</td>\n",
       "      <td>DE</td>\n",
       "      <td>2023-10-30T15:26:19.000Z</td>\n",
       "      <td>Wie so vieles anderes in diesem Land</td>\n",
       "      <td>Wie so vieles anderes in diesem Land, geht es ...</td>\n",
       "      <td>1</td>\n",
       "      <td>0</td>\n",
       "      <td>None</td>\n",
       "    </tr>\n",
       "    <tr>\n",
       "      <th>4</th>\n",
       "      <td>OrangeTomCat</td>\n",
       "      <td>DE</td>\n",
       "      <td>2023-10-29T08:37:42.000Z</td>\n",
       "      <td>Zustellung nicht möglich</td>\n",
       "      <td>Am Sonnabend, d. 28.10.2023 konnte eine Sendun...</td>\n",
       "      <td>1</td>\n",
       "      <td>2</td>\n",
       "      <td>None</td>\n",
       "    </tr>\n",
       "    <tr>\n",
       "      <th>...</th>\n",
       "      <td>...</td>\n",
       "      <td>...</td>\n",
       "      <td>...</td>\n",
       "      <td>...</td>\n",
       "      <td>...</td>\n",
       "      <td>...</td>\n",
       "      <td>...</td>\n",
       "      <td>...</td>\n",
       "    </tr>\n",
       "    <tr>\n",
       "      <th>75</th>\n",
       "      <td>Michael Gromoll</td>\n",
       "      <td>DE</td>\n",
       "      <td>2023-10-23T18:38:56.000Z</td>\n",
       "      <td>Gespräch mit wohl unfreundlichsten Mitarbeiter</td>\n",
       "      <td>Hatte gerade ein Gespräch mit dem wohl unfreun...</td>\n",
       "      <td>1</td>\n",
       "      <td>1</td>\n",
       "      <td>Hallo Michael Gromoll, wir bedauern Ihre unsch...</td>\n",
       "    </tr>\n",
       "    <tr>\n",
       "      <th>76</th>\n",
       "      <td>Désirée D.</td>\n",
       "      <td>DE</td>\n",
       "      <td>2023-10-27T17:18:15.000Z</td>\n",
       "      <td>Packstation und Klingeln sind Lava</td>\n",
       "      <td>Paketumleitung an die Packstation funktioniert...</td>\n",
       "      <td>1</td>\n",
       "      <td>1</td>\n",
       "      <td>Guten Tag Désirée D.,\\nes ist ärgerlich, dass ...</td>\n",
       "    </tr>\n",
       "    <tr>\n",
       "      <th>77</th>\n",
       "      <td>alex</td>\n",
       "      <td>DE</td>\n",
       "      <td>2023-10-24T16:47:34.000Z</td>\n",
       "      <td>Mitlerweile leider Schlecht</td>\n",
       "      <td>War immer begeistert von DHL..\\nMeist war mein...</td>\n",
       "      <td>1</td>\n",
       "      <td>4</td>\n",
       "      <td>Hallo, der entstandene Ärger tut mir sehr leid...</td>\n",
       "    </tr>\n",
       "    <tr>\n",
       "      <th>78</th>\n",
       "      <td>Samantha Zellner</td>\n",
       "      <td>DE</td>\n",
       "      <td>2023-10-26T10:29:40.000Z</td>\n",
       "      <td>Noch nie in meinem Leben hab ich so…</td>\n",
       "      <td>Noch nie in meinem Leben hab ich so unfähige M...</td>\n",
       "      <td>1</td>\n",
       "      <td>1</td>\n",
       "      <td>Hallo Samantha Zellner, Entschuldigung, dass S...</td>\n",
       "    </tr>\n",
       "    <tr>\n",
       "      <th>79</th>\n",
       "      <td>Stephan Götz</td>\n",
       "      <td>DE</td>\n",
       "      <td>2023-10-23T13:01:14.000Z</td>\n",
       "      <td>Bald seit 1j hatte ich einen Bekannten…</td>\n",
       "      <td>Bald seit 1j hatte ich einen Bekannten Parfüm ...</td>\n",
       "      <td>1</td>\n",
       "      <td>4</td>\n",
       "      <td>Hallo Stephan Götz, \\nwir bedauern, dass Sie d...</td>\n",
       "    </tr>\n",
       "  </tbody>\n",
       "</table>\n",
       "<p>80 rows × 8 columns</p>\n",
       "</div>"
      ],
      "text/plain": [
       "        reviewerName reviewerCountryCode                  postDate  \\\n",
       "0               DRML                  DE  2023-10-30T08:52:30.000Z   \n",
       "1           Belix Fa                  DE  2023-10-30T17:13:51.000Z   \n",
       "2    Joachim Henning                  DE  2023-10-30T14:12:39.000Z   \n",
       "3                Jb.                  DE  2023-10-30T15:26:19.000Z   \n",
       "4       OrangeTomCat                  DE  2023-10-29T08:37:42.000Z   \n",
       "..               ...                 ...                       ...   \n",
       "75   Michael Gromoll                  DE  2023-10-23T18:38:56.000Z   \n",
       "76        Désirée D.                  DE  2023-10-27T17:18:15.000Z   \n",
       "77              alex                  DE  2023-10-24T16:47:34.000Z   \n",
       "78  Samantha Zellner                  DE  2023-10-26T10:29:40.000Z   \n",
       "79      Stephan Götz                  DE  2023-10-23T13:01:14.000Z   \n",
       "\n",
       "                                         postTitle  \\\n",
       "0                      DHL kann auch gut arbeiten…   \n",
       "1            Lieferung wurde nicht zugestellt mit…   \n",
       "2                       Paket sollte am 23.10.2023   \n",
       "3             Wie so vieles anderes in diesem Land   \n",
       "4                         Zustellung nicht möglich   \n",
       "..                                             ...   \n",
       "75  Gespräch mit wohl unfreundlichsten Mitarbeiter   \n",
       "76              Packstation und Klingeln sind Lava   \n",
       "77                     Mitlerweile leider Schlecht   \n",
       "78            Noch nie in meinem Leben hab ich so…   \n",
       "79         Bald seit 1j hatte ich einen Bekannten…   \n",
       "\n",
       "                                          postContent  rating  likes  \\\n",
       "0   Natürlich habe auch ich Probleme mit DHL, dies...       5      0   \n",
       "1   Lieferung wurde nicht zugestellt mit Begründun...       1      0   \n",
       "2   Paket sollte am 23.10. geliefert werden, da ic...       2      0   \n",
       "3   Wie so vieles anderes in diesem Land, geht es ...       1      0   \n",
       "4   Am Sonnabend, d. 28.10.2023 konnte eine Sendun...       1      2   \n",
       "..                                                ...     ...    ...   \n",
       "75  Hatte gerade ein Gespräch mit dem wohl unfreun...       1      1   \n",
       "76  Paketumleitung an die Packstation funktioniert...       1      1   \n",
       "77  War immer begeistert von DHL..\\nMeist war mein...       1      4   \n",
       "78  Noch nie in meinem Leben hab ich so unfähige M...       1      1   \n",
       "79  Bald seit 1j hatte ich einen Bekannten Parfüm ...       1      4   \n",
       "\n",
       "                                                reply  \n",
       "0                                                None  \n",
       "1                                                None  \n",
       "2                                                None  \n",
       "3                                                None  \n",
       "4                                                None  \n",
       "..                                                ...  \n",
       "75  Hallo Michael Gromoll, wir bedauern Ihre unsch...  \n",
       "76  Guten Tag Désirée D.,\\nes ist ärgerlich, dass ...  \n",
       "77  Hallo, der entstandene Ärger tut mir sehr leid...  \n",
       "78  Hallo Samantha Zellner, Entschuldigung, dass S...  \n",
       "79  Hallo Stephan Götz, \\nwir bedauern, dass Sie d...  \n",
       "\n",
       "[80 rows x 8 columns]"
      ]
     },
     "execution_count": 21,
     "metadata": {},
     "output_type": "execute_result"
    }
   ],
   "source": [
    "df"
   ]
  },
  {
   "cell_type": "code",
   "execution_count": null,
   "id": "f0c4381d-50cb-4e8a-bce9-78fbb33fa2a7",
   "metadata": {},
   "outputs": [],
   "source": []
  }
 ],
 "metadata": {
  "kernelspec": {
   "display_name": "Python 3 (ipykernel)",
   "language": "python",
   "name": "python3"
  },
  "language_info": {
   "codemirror_mode": {
    "name": "ipython",
    "version": 3
   },
   "file_extension": ".py",
   "mimetype": "text/x-python",
   "name": "python",
   "nbconvert_exporter": "python",
   "pygments_lexer": "ipython3",
   "version": "3.9.6"
  }
 },
 "nbformat": 4,
 "nbformat_minor": 5
}
