{
 "cells": [
  {
   "cell_type": "code",
   "execution_count": 1,
   "id": "5a491f8a-a5c8-4cca-a56a-a3080989a896",
   "metadata": {},
   "outputs": [],
   "source": [
    "import sys\n",
    "\n",
    "sys.path.append(\"../\")"
   ]
  },
  {
   "cell_type": "code",
   "execution_count": 2,
   "id": "1f329f58-5e25-4351-972e-c8666efa92f5",
   "metadata": {},
   "outputs": [
    {
     "name": "stderr",
     "output_type": "stream",
     "text": [
      "/Users/kaushikdayalan/projects/storymachine_projects/trustpilot_scraper/.env/lib/python3.9/site-packages/urllib3/__init__.py:34: NotOpenSSLWarning: urllib3 v2.0 only supports OpenSSL 1.1.1+, currently the 'ssl' module is compiled with 'LibreSSL 2.8.3'. See: https://github.com/urllib3/urllib3/issues/3020\n",
      "  warnings.warn(\n"
     ]
    }
   ],
   "source": [
    "from typing import List\n",
    "import pandas as pd\n",
    "from src.pipeline import collect_data, convert_scraped_data_to_df"
   ]
  },
  {
   "cell_type": "code",
   "execution_count": 12,
   "id": "bb4b0cf6-af5c-49a2-9f32-2769072e5134",
   "metadata": {},
   "outputs": [],
   "source": [
    "scrapper = Scrapper()"
   ]
  },
  {
   "cell_type": "code",
   "execution_count": 13,
   "id": "5a1cd4bf-c8f2-4c92-bb71-f5e684d0b9a6",
   "metadata": {},
   "outputs": [],
   "source": [
    "data = scrapper.get_data()"
   ]
  },
  {
   "cell_type": "code",
   "execution_count": 16,
   "id": "8e4ea1ee-3a99-43a9-8610-038c58c15aa4",
   "metadata": {},
   "outputs": [],
   "source": [
    "def convert_scraped_data_to_df(data: List) -> pd.DataFrame:\n",
    "    df_columns = [\"reviewerName\", \n",
    "              \"reviewerCountryCode\",\n",
    "              \"postDate\",\n",
    "              \"postTitle\", \n",
    "              \"postContent\", \n",
    "              \"rating\",\n",
    "              \"likes\",\n",
    "              \"reply\"\n",
    "             ]\n",
    "    return pd.DataFrame(data=data, columns=df_columns)"
   ]
  },
  {
   "cell_type": "code",
   "execution_count": 17,
   "id": "4f82d91e-00aa-4992-b78a-22a146cd3eac",
   "metadata": {},
   "outputs": [],
   "source": [
    "df = convert_scraped_data_to_df(data=data)"
   ]
  },
  {
   "cell_type": "code",
   "execution_count": null,
   "id": "a9ba30b4-0d00-4658-a637-3ec6c096e6ba",
   "metadata": {},
   "outputs": [],
   "source": [
    "pd.read_json(df.to_json())"
   ]
  },
  {
   "cell_type": "code",
   "execution_count": 4,
   "id": "11e99179-3ba9-4dc9-a0be-c1a1d61ba871",
   "metadata": {},
   "outputs": [],
   "source": []
  },
  {
   "cell_type": "code",
   "execution_count": 5,
   "id": "81c721f9-e2e1-43a5-897d-5bbab6c1cd60",
   "metadata": {},
   "outputs": [],
   "source": []
  },
  {
   "cell_type": "code",
   "execution_count": null,
   "id": "53797bd8-1fb0-4c4e-8871-be07db7dc9c8",
   "metadata": {},
   "outputs": [],
   "source": []
  }
 ],
 "metadata": {
  "kernelspec": {
   "display_name": "Python 3 (ipykernel)",
   "language": "python",
   "name": "python3"
  },
  "language_info": {
   "codemirror_mode": {
    "name": "ipython",
    "version": 3
   },
   "file_extension": ".py",
   "mimetype": "text/x-python",
   "name": "python",
   "nbconvert_exporter": "python",
   "pygments_lexer": "ipython3",
   "version": "3.9.6"
  }
 },
 "nbformat": 4,
 "nbformat_minor": 5
}
