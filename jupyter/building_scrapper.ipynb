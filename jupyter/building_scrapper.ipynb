{
 "cells": [
  {
   "cell_type": "markdown",
   "id": "477caf60-b301-44d3-b9aa-fb755c6ccb60",
   "metadata": {},
   "source": [
    "# Building a trust-pilot scrapper"
   ]
  },
  {
   "cell_type": "markdown",
   "id": "f1d8be84-6ddb-425e-8b2a-21b4c20dd66a",
   "metadata": {},
   "source": [
    "## Imports"
   ]
  },
  {
   "cell_type": "code",
   "execution_count": 3,
   "id": "bbd9279a-bef2-4771-a419-ac3bda4aa233",
   "metadata": {},
   "outputs": [
    {
     "name": "stderr",
     "output_type": "stream",
     "text": [
      "/Users/kaushikdayalan/projects/storymachine_projects/trustpilot_scraper/.env/lib/python3.9/site-packages/urllib3/__init__.py:34: NotOpenSSLWarning: urllib3 v2.0 only supports OpenSSL 1.1.1+, currently the 'ssl' module is compiled with 'LibreSSL 2.8.3'. See: https://github.com/urllib3/urllib3/issues/3020\n",
      "  warnings.warn(\n"
     ]
    }
   ],
   "source": [
    "from bs4 import BeautifulSoup\n",
    "import requests\n",
    "import pandas as pd\n",
    "import datetime as dt"
   ]
  },
  {
   "cell_type": "code",
   "execution_count": 5,
   "id": "4d7b7765-a84a-4011-957c-06257ff238da",
   "metadata": {},
   "outputs": [],
   "source": [
    "## Initialize lists\n",
    "review_titles = []\n",
    "review_dates_original = []\n",
    "review_dates = []\n",
    "review_ratings = []\n",
    "review_texts = []\n",
    "page_number = []\n",
    "replies = []"
   ]
  },
  {
   "cell_type": "code",
   "execution_count": null,
   "id": "8f9b3474-dc9c-4b65-aef2-9c7758819541",
   "metadata": {},
   "outputs": [],
   "source": [
    "web_page"
   ]
  },
  {
   "cell_type": "code",
   "execution_count": 79,
   "id": "2e5a970a-e1f8-4528-9f26-368ccd092b65",
   "metadata": {},
   "outputs": [],
   "source": [
    "response = requests.get(f\"https://de.trustpilot.com/review/{website_name}?page={i}\")\n",
    "    \n",
    "web_page = response.text\n",
    "soup = BeautifulSoup(web_page, \"html.parser\")\n",
    "\n"
   ]
  },
  {
   "cell_type": "code",
   "execution_count": 86,
   "id": "3cb35d89-94bc-47f2-a638-014938593d03",
   "metadata": {},
   "outputs": [
    {
     "data": {
      "text/plain": [
       "{'id': '653f65da2b18c6e12a6ed0a3',\n",
       " 'filtered': False,\n",
       " 'pending': False,\n",
       " 'text': 'Weniger als 1* Wert.\\nIch habe lange ignoriert, dass die Zusteller von DHL keine Lust haben zu arbeiten, zu Faul oder zu unfähig sind. \\nHeute aber die Krönung… Ich habe ein Paket am Freitag erwartet und es war auch in Zustellung. Die Tour wurde abgebrochen und das Paket “wie gewünscht” in die Filiale gebracht. Welche Filiale? Keine Ahnung. Heute (Montag) habe ich bei DHL angerufen und da bestätigt man mir die korrekte Adresse, sagt mir aber, dass der Zusteller die Hausnummer nicht gefunden hat und das Paket deswegen zurückgeschickt wird. Zurückgeschickt. Warum?\\nJetzt ist Halloween versaut und mein Kind bitterlich am weinen',\n",
       " 'rating': 1,\n",
       " 'labels': {'merged': None,\n",
       "  'verification': {'isVerified': False,\n",
       "   'createdDateTime': '2023-10-30T10:14:18.000Z',\n",
       "   'reviewSourceName': 'Organic',\n",
       "   'verificationSource': 'invitation',\n",
       "   'verificationLevel': 'not-verified',\n",
       "   'hasDachExclusion': False}},\n",
       " 'title': 'Weniger als 1* Wert',\n",
       " 'likes': 0,\n",
       " 'dates': {'experiencedDate': '2023-10-30T00:00:00.000Z',\n",
       "  'publishedDate': '2023-10-30T10:14:18.000Z',\n",
       "  'updatedDate': None},\n",
       " 'report': None,\n",
       " 'hasUnhandledReports': False,\n",
       " 'consumer': {'id': '5e96273fc78e4fbe262bf527',\n",
       "  'displayName': 'Jasmin',\n",
       "  'imageUrl': '',\n",
       "  'numberOfReviews': 2,\n",
       "  'countryCode': 'DE',\n",
       "  'hasImage': False,\n",
       "  'isVerified': False},\n",
       " 'reply': None,\n",
       " 'consumersReviewCountOnSameDomain': 1,\n",
       " 'consumersReviewCountOnSameLocation': None,\n",
       " 'productReviews': [],\n",
       " 'language': 'de',\n",
       " 'location': None}"
      ]
     },
     "execution_count": 86,
     "metadata": {},
     "output_type": "execute_result"
    }
   ],
   "source": []
  },
  {
   "cell_type": "code",
   "execution_count": null,
   "id": "7a0a5170-02c7-4386-8329-42e731706278",
   "metadata": {},
   "outputs": [],
   "source": [
    "# Set Trustpilot page numbers to scrape here\n",
    "from_page = 1\n",
    "to_page = 500\n",
    "\n",
    "df_data = []\n",
    "\n",
    "website_name = \"www.dhl.de\"\n",
    "\n",
    "for i in range(from_page, to_page + 1):\n",
    "    response = requests.get(f\"https://de.trustpilot.com/review/{website_name}?page={i}\")\n",
    "    \n",
    "    web_page = response.text\n",
    "    soup = BeautifulSoup(web_page, \"html.parser\")\n",
    "    data = json.loads(soup.find('script' , id=\"__NEXT_DATA__\",type='application/json').text)\n",
    "    data = data[\"props\"][\"pageProps\"][\"reviews\"]\n",
    "    for j, review in enumerate(data):\n",
    "        reviews = []\n",
    "        reviews.extend([\n",
    "            review[\"consumer\"][\"displayName\"],\n",
    "                        review[\"consumer\"][\"countryCode\"],\n",
    "                        review[\"dates\"][\"publishedDate\"],\n",
    "                        review[\"title\"], \n",
    "                        review[\"text\"], \n",
    "                        review[\"rating\"],\n",
    "                        review[\"likes\"]])\n",
    "        \n",
    "        if review[\"reply\"] != None:\n",
    "            reviews.append(review[\"reply\"][\"message\"])\n",
    "        else:\n",
    "            reviews.append(None)\n",
    "        df_data.append(reviews)\n",
    "        break"
   ]
  },
  {
   "cell_type": "code",
   "execution_count": null,
   "id": "1101fd43-1ecd-48ef-afae-4c906036d178",
   "metadata": {},
   "outputs": [],
   "source": [
    "df_columns = [\"reviewerName\", \n",
    "              \"reviewerCountryCode\",\n",
    "              \"postDate\",\n",
    "              \"postTitle\", \n",
    "              \"postContent\", \n",
    "              \"rating\",\n",
    "              \"likes\",\n",
    "              \"reply\"\n",
    "             ]\n",
    "\n",
    "df = pd.DataFrame(data=df_data, columns=df_columns)"
   ]
  },
  {
   "cell_type": "code",
   "execution_count": null,
   "id": "17f7aa53-9a8f-45ff-a043-f406941ec5f5",
   "metadata": {},
   "outputs": [],
   "source": [
    "df.shape"
   ]
  },
  {
   "cell_type": "code",
   "execution_count": null,
   "id": "4c51796d-935f-46cf-a158-ea1ee3a17580",
   "metadata": {},
   "outputs": [],
   "source": []
  }
 ],
 "metadata": {
  "kernelspec": {
   "display_name": "Python 3 (ipykernel)",
   "language": "python",
   "name": "python3"
  },
  "language_info": {
   "codemirror_mode": {
    "name": "ipython",
    "version": 3
   },
   "file_extension": ".py",
   "mimetype": "text/x-python",
   "name": "python",
   "nbconvert_exporter": "python",
   "pygments_lexer": "ipython3",
   "version": "3.9.6"
  }
 },
 "nbformat": 4,
 "nbformat_minor": 5
}
