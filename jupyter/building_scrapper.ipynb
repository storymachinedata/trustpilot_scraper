{
 "cells": [
  {
   "cell_type": "markdown",
   "id": "477caf60-b301-44d3-b9aa-fb755c6ccb60",
   "metadata": {},
   "source": [
    "# Building a trust-pilot scrapper"
   ]
  },
  {
   "cell_type": "markdown",
   "id": "f1d8be84-6ddb-425e-8b2a-21b4c20dd66a",
   "metadata": {},
   "source": [
    "## Imports"
   ]
  },
  {
   "cell_type": "code",
   "execution_count": 1,
   "id": "bbd9279a-bef2-4771-a419-ac3bda4aa233",
   "metadata": {},
   "outputs": [
    {
     "name": "stderr",
     "output_type": "stream",
     "text": [
      "/Users/kaushikdayalan/projects/storymachine_projects/trustpilot_scraper/.env/lib/python3.9/site-packages/urllib3/__init__.py:34: NotOpenSSLWarning: urllib3 v2.0 only supports OpenSSL 1.1.1+, currently the 'ssl' module is compiled with 'LibreSSL 2.8.3'. See: https://github.com/urllib3/urllib3/issues/3020\n",
      "  warnings.warn(\n"
     ]
    }
   ],
   "source": [
    "from bs4 import BeautifulSoup\n",
    "import requests\n",
    "import pandas as pd\n",
    "import datetime as dt\n",
    "import json#"
   ]
  },
  {
   "cell_type": "code",
   "execution_count": 2,
   "id": "7a0a5170-02c7-4386-8329-42e731706278",
   "metadata": {},
   "outputs": [],
   "source": [
    "# Set Trustpilot page numbers to scrape here\n",
    "from_page = 300\n",
    "to_page = 500\n",
    "\n",
    "df_data = []\n",
    "\n",
    "website_name = \"www.dhl.de\"\n",
    "\n",
    "for i in range(from_page, to_page + 1):\n",
    "    response = requests.get(f\"https://de.trustpilot.com/review/{website_name}?page={i}\")\n",
    "    \n",
    "    web_page = response.text\n",
    "    soup = BeautifulSoup(web_page, \"html.parser\")\n",
    "    data = json.loads(soup.find('script' , id=\"__NEXT_DATA__\",type='application/json').text)\n",
    "    data = data[\"props\"][\"pageProps\"][\"reviews\"]\n",
    "    for j, review in enumerate(data):\n",
    "        reviews = []\n",
    "        reviews.extend([\n",
    "            review[\"consumer\"][\"displayName\"],\n",
    "                        review[\"consumer\"][\"countryCode\"],\n",
    "                        review[\"dates\"][\"publishedDate\"],\n",
    "                        review[\"title\"], \n",
    "                        review[\"text\"], \n",
    "                        review[\"rating\"],\n",
    "                        review[\"likes\"]])\n",
    "        \n",
    "        if review[\"reply\"] != None:\n",
    "            reviews.append(review[\"reply\"][\"message\"])\n",
    "        else:\n",
    "            reviews.append(None)\n",
    "        df_data.append(reviews)"
   ]
  },
  {
   "cell_type": "code",
   "execution_count": 5,
   "id": "ecda3aa4-f40a-43b2-b091-e253ddbdda21",
   "metadata": {},
   "outputs": [],
   "source": [
    "df_columns = [\"reviewerName\", \n",
    "              \"reviewerCountryCode\",\n",
    "              \"postDate\",\n",
    "              \"postTitle\", \n",
    "              \"postContent\", \n",
    "              \"rating\",\n",
    "              \"likes\",\n",
    "              \"reply\"\n",
    "             ]\n",
    "\n",
    "df = pd.DataFrame(data=df_data, columns=df_columns)"
   ]
  },
  {
   "cell_type": "code",
   "execution_count": 6,
   "id": "17f7aa53-9a8f-45ff-a043-f406941ec5f5",
   "metadata": {},
   "outputs": [],
   "source": [
    "df[\"postDate\"] = pd.to_datetime(df[\"postDate\"])"
   ]
  },
  {
   "cell_type": "code",
   "execution_count": 7,
   "id": "4c51796d-935f-46cf-a158-ea1ee3a17580",
   "metadata": {},
   "outputs": [],
   "source": [
    "df = df.sort_values(\"postDate\")"
   ]
  },
  {
   "cell_type": "code",
   "execution_count": 8,
   "id": "6c4f6f4f-a09a-4eaf-8b93-8e510e75aca3",
   "metadata": {},
   "outputs": [
    {
     "data": {
      "text/plain": [
       "reviewerName             0\n",
       "reviewerCountryCode      0\n",
       "postDate                 0\n",
       "postTitle                0\n",
       "postContent              0\n",
       "rating                   0\n",
       "likes                    0\n",
       "reply                  460\n",
       "dtype: int64"
      ]
     },
     "execution_count": 8,
     "metadata": {},
     "output_type": "execute_result"
    }
   ],
   "source": [
    "df.isnull().sum()"
   ]
  },
  {
   "cell_type": "code",
   "execution_count": 9,
   "id": "8384745b-da23-4663-b036-dd63cb91f3ed",
   "metadata": {},
   "outputs": [
    {
     "data": {
      "text/plain": [
       "(4020, 8)"
      ]
     },
     "execution_count": 9,
     "metadata": {},
     "output_type": "execute_result"
    }
   ],
   "source": [
    "df.shape"
   ]
  },
  {
   "cell_type": "code",
   "execution_count": 10,
   "id": "25a617d6-99dc-46b6-bab1-41e45fb46fc5",
   "metadata": {},
   "outputs": [
    {
     "data": {
      "text/html": [
       "<div>\n",
       "<style scoped>\n",
       "    .dataframe tbody tr th:only-of-type {\n",
       "        vertical-align: middle;\n",
       "    }\n",
       "\n",
       "    .dataframe tbody tr th {\n",
       "        vertical-align: top;\n",
       "    }\n",
       "\n",
       "    .dataframe thead th {\n",
       "        text-align: right;\n",
       "    }\n",
       "</style>\n",
       "<table border=\"1\" class=\"dataframe\">\n",
       "  <thead>\n",
       "    <tr style=\"text-align: right;\">\n",
       "      <th></th>\n",
       "      <th>reviewerName</th>\n",
       "      <th>reviewerCountryCode</th>\n",
       "      <th>postDate</th>\n",
       "      <th>postTitle</th>\n",
       "      <th>postContent</th>\n",
       "      <th>rating</th>\n",
       "      <th>likes</th>\n",
       "      <th>reply</th>\n",
       "    </tr>\n",
       "  </thead>\n",
       "  <tbody>\n",
       "    <tr>\n",
       "      <th>4019</th>\n",
       "      <td>Friederike Fromme</td>\n",
       "      <td>DE</td>\n",
       "      <td>2022-08-29 16:29:59+00:00</td>\n",
       "      <td>Am Donnerstag ein wichtiges Schreiben…</td>\n",
       "      <td>Am Donnerstag ein wichtiges Schreiben per Expr...</td>\n",
       "      <td>1</td>\n",
       "      <td>0</td>\n",
       "      <td>Hallo, hierbei handelt es sich um Expresssendu...</td>\n",
       "    </tr>\n",
       "    <tr>\n",
       "      <th>4018</th>\n",
       "      <td>Petra Wieder</td>\n",
       "      <td>DE</td>\n",
       "      <td>2022-08-29 16:47:36+00:00</td>\n",
       "      <td>In der letzten Zeit unmöglich</td>\n",
       "      <td>In der letzten Zeit unmöglich, man bekommt ein...</td>\n",
       "      <td>1</td>\n",
       "      <td>0</td>\n",
       "      <td>Hallo, es tut mir sehr leid, dass Sie mit der ...</td>\n",
       "    </tr>\n",
       "    <tr>\n",
       "      <th>4017</th>\n",
       "      <td>Andrea Staffel</td>\n",
       "      <td>DE</td>\n",
       "      <td>2022-08-29 16:51:36+00:00</td>\n",
       "      <td>DHL - Nein danke!</td>\n",
       "      <td>... und der Stern ist noch geschenkt. Seit kna...</td>\n",
       "      <td>1</td>\n",
       "      <td>0</td>\n",
       "      <td>Hallo, schade, dass Sie mit unserem Service ni...</td>\n",
       "    </tr>\n",
       "    <tr>\n",
       "      <th>4016</th>\n",
       "      <td>Kritiker</td>\n",
       "      <td>GE</td>\n",
       "      <td>2022-08-29 16:55:46+00:00</td>\n",
       "      <td>Ein wirklich miserabler Haufen tiefer und nach...</td>\n",
       "      <td>Ein wirklich miserabler Haufen an Unfähigkeit....</td>\n",
       "      <td>1</td>\n",
       "      <td>1</td>\n",
       "      <td>Bei allem Verständnis für Ihren Ärger - so kom...</td>\n",
       "    </tr>\n",
       "    <tr>\n",
       "      <th>4015</th>\n",
       "      <td>Wolfgang Hager</td>\n",
       "      <td>DE</td>\n",
       "      <td>2022-08-29 17:04:53+00:00</td>\n",
       "      <td>Hat alles pünktlich und zuverlässig…</td>\n",
       "      <td>Hat alles pünktlich und zuverlässig funktionie...</td>\n",
       "      <td>5</td>\n",
       "      <td>1</td>\n",
       "      <td>Hallo, vielen Dank für das positive Feedback, ...</td>\n",
       "    </tr>\n",
       "    <tr>\n",
       "      <th>...</th>\n",
       "      <td>...</td>\n",
       "      <td>...</td>\n",
       "      <td>...</td>\n",
       "      <td>...</td>\n",
       "      <td>...</td>\n",
       "      <td>...</td>\n",
       "      <td>...</td>\n",
       "      <td>...</td>\n",
       "    </tr>\n",
       "    <tr>\n",
       "      <th>4</th>\n",
       "      <td>Emre Tasdemir</td>\n",
       "      <td>DE</td>\n",
       "      <td>2023-02-15 19:27:24+00:00</td>\n",
       "      <td>Schlechtester Lieferant und Kundenservice</td>\n",
       "      <td>Ich hatte ein Kopfhörer bestellt und die wurde...</td>\n",
       "      <td>1</td>\n",
       "      <td>2</td>\n",
       "      <td>Hallo Emre Tasdemir,\\nes tut uns leid, dass Si...</td>\n",
       "    </tr>\n",
       "    <tr>\n",
       "      <th>3</th>\n",
       "      <td>Luana Simula</td>\n",
       "      <td>DE</td>\n",
       "      <td>2023-02-15 20:15:55+00:00</td>\n",
       "      <td>Ich hatte ein Packet als zugestellt…</td>\n",
       "      <td>Ich hatte ein Packet als zugestellt bekommen, ...</td>\n",
       "      <td>1</td>\n",
       "      <td>0</td>\n",
       "      <td>Hallo,\\ndie geschilderten Unannehmlichkeiten b...</td>\n",
       "    </tr>\n",
       "    <tr>\n",
       "      <th>2</th>\n",
       "      <td>Michael Stelzhammer</td>\n",
       "      <td>DE</td>\n",
       "      <td>2023-02-15 20:24:07+00:00</td>\n",
       "      <td>Paketzusteller,der immer sehr…</td>\n",
       "      <td>Paketzusteller,der immer sehr zuverlässig ist,...</td>\n",
       "      <td>1</td>\n",
       "      <td>2</td>\n",
       "      <td>Hallo Michael Stelzhammer,\\nes tut uns leid zu...</td>\n",
       "    </tr>\n",
       "    <tr>\n",
       "      <th>1</th>\n",
       "      <td>Ralf Hacker</td>\n",
       "      <td>DE</td>\n",
       "      <td>2023-02-15 20:30:18+00:00</td>\n",
       "      <td>Klasse</td>\n",
       "      <td>Bis auf wenige, ärgerliche Ausnahmen, war der ...</td>\n",
       "      <td>5</td>\n",
       "      <td>0</td>\n",
       "      <td>Hallo Ralf Hacker,\\nwir freuen uns über Ihre p...</td>\n",
       "    </tr>\n",
       "    <tr>\n",
       "      <th>0</th>\n",
       "      <td>Sam Siahmardy</td>\n",
       "      <td>CH</td>\n",
       "      <td>2023-02-15 20:53:01+00:00</td>\n",
       "      <td>Beschädigte Ware trotz guter Verpackung</td>\n",
       "      <td>Die Verpackung und die Ware selbst wurde beim ...</td>\n",
       "      <td>1</td>\n",
       "      <td>0</td>\n",
       "      <td>Hallo,\\nwir bedauern, dass Ihre Sendung beschä...</td>\n",
       "    </tr>\n",
       "  </tbody>\n",
       "</table>\n",
       "<p>4020 rows × 8 columns</p>\n",
       "</div>"
      ],
      "text/plain": [
       "             reviewerName reviewerCountryCode                  postDate  \\\n",
       "4019    Friederike Fromme                  DE 2022-08-29 16:29:59+00:00   \n",
       "4018         Petra Wieder                  DE 2022-08-29 16:47:36+00:00   \n",
       "4017       Andrea Staffel                  DE 2022-08-29 16:51:36+00:00   \n",
       "4016             Kritiker                  GE 2022-08-29 16:55:46+00:00   \n",
       "4015       Wolfgang Hager                  DE 2022-08-29 17:04:53+00:00   \n",
       "...                   ...                 ...                       ...   \n",
       "4           Emre Tasdemir                  DE 2023-02-15 19:27:24+00:00   \n",
       "3            Luana Simula                  DE 2023-02-15 20:15:55+00:00   \n",
       "2     Michael Stelzhammer                  DE 2023-02-15 20:24:07+00:00   \n",
       "1             Ralf Hacker                  DE 2023-02-15 20:30:18+00:00   \n",
       "0           Sam Siahmardy                  CH 2023-02-15 20:53:01+00:00   \n",
       "\n",
       "                                              postTitle  \\\n",
       "4019             Am Donnerstag ein wichtiges Schreiben…   \n",
       "4018                      In der letzten Zeit unmöglich   \n",
       "4017                                  DHL - Nein danke!   \n",
       "4016  Ein wirklich miserabler Haufen tiefer und nach...   \n",
       "4015               Hat alles pünktlich und zuverlässig…   \n",
       "...                                                 ...   \n",
       "4             Schlechtester Lieferant und Kundenservice   \n",
       "3                  Ich hatte ein Packet als zugestellt…   \n",
       "2                        Paketzusteller,der immer sehr…   \n",
       "1                                                Klasse   \n",
       "0               Beschädigte Ware trotz guter Verpackung   \n",
       "\n",
       "                                            postContent  rating  likes  \\\n",
       "4019  Am Donnerstag ein wichtiges Schreiben per Expr...       1      0   \n",
       "4018  In der letzten Zeit unmöglich, man bekommt ein...       1      0   \n",
       "4017  ... und der Stern ist noch geschenkt. Seit kna...       1      0   \n",
       "4016  Ein wirklich miserabler Haufen an Unfähigkeit....       1      1   \n",
       "4015  Hat alles pünktlich und zuverlässig funktionie...       5      1   \n",
       "...                                                 ...     ...    ...   \n",
       "4     Ich hatte ein Kopfhörer bestellt und die wurde...       1      2   \n",
       "3     Ich hatte ein Packet als zugestellt bekommen, ...       1      0   \n",
       "2     Paketzusteller,der immer sehr zuverlässig ist,...       1      2   \n",
       "1     Bis auf wenige, ärgerliche Ausnahmen, war der ...       5      0   \n",
       "0     Die Verpackung und die Ware selbst wurde beim ...       1      0   \n",
       "\n",
       "                                                  reply  \n",
       "4019  Hallo, hierbei handelt es sich um Expresssendu...  \n",
       "4018  Hallo, es tut mir sehr leid, dass Sie mit der ...  \n",
       "4017  Hallo, schade, dass Sie mit unserem Service ni...  \n",
       "4016  Bei allem Verständnis für Ihren Ärger - so kom...  \n",
       "4015  Hallo, vielen Dank für das positive Feedback, ...  \n",
       "...                                                 ...  \n",
       "4     Hallo Emre Tasdemir,\\nes tut uns leid, dass Si...  \n",
       "3     Hallo,\\ndie geschilderten Unannehmlichkeiten b...  \n",
       "2     Hallo Michael Stelzhammer,\\nes tut uns leid zu...  \n",
       "1     Hallo Ralf Hacker,\\nwir freuen uns über Ihre p...  \n",
       "0     Hallo,\\nwir bedauern, dass Ihre Sendung beschä...  \n",
       "\n",
       "[4020 rows x 8 columns]"
      ]
     },
     "execution_count": 10,
     "metadata": {},
     "output_type": "execute_result"
    }
   ],
   "source": []
  },
  {
   "cell_type": "code",
   "execution_count": null,
   "id": "52419f32-6710-41d4-af7a-ad744fd612ee",
   "metadata": {},
   "outputs": [],
   "source": []
  }
 ],
 "metadata": {
  "kernelspec": {
   "display_name": "Python 3 (ipykernel)",
   "language": "python",
   "name": "python3"
  },
  "language_info": {
   "codemirror_mode": {
    "name": "ipython",
    "version": 3
   },
   "file_extension": ".py",
   "mimetype": "text/x-python",
   "name": "python",
   "nbconvert_exporter": "python",
   "pygments_lexer": "ipython3",
   "version": "3.9.6"
  }
 },
 "nbformat": 4,
 "nbformat_minor": 5
}
